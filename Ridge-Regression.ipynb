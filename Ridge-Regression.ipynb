{
 "cells": [
  {
   "cell_type": "markdown",
   "metadata": {},
   "source": [
    "# Assignment 3:  ridge regression\n",
    "\n",
    "Vignesh M. Pagadala"
   ]
  },
  {
   "cell_type": "markdown",
   "metadata": {},
   "source": [
    "## Preliminaries \n",
    "\n",
    "In this assignment you will explore ridge regression applied to the task of predicting wine quality.\n",
    "You will use the [wine quality](http://archive.ics.uci.edu/ml/datasets/Wine+Quality)\n",
    "dataset from the UCI machine learning repository, and compare accuracy obtained using ridge regression to the results from a [recent publication](http://www.sciencedirect.com/science/article/pii/S0167923609001377#).\n",
    "If you have trouble accessing that version of the paper, here's a link to a [preprint](http://www3.dsi.uminho.pt/pcortez/wine5.pdf).\n",
    "The wine data is composed of two datasets - one for white wines, and one for red wines.  In this assignment perform all your analyses on just the red wine data.\n",
    "\n",
    "The features for the wine dataset are not standardized, so make sure you do this, especially since we are going to consider the magnitude of the weight vector (recall that standardization entails subtracting the mean and then dividing by the standard deviation for each feature; you can use  Numpy/scikit-learn to perform this computation.\n"
   ]
  },
  {
   "cell_type": "code",
   "execution_count": 26,
   "metadata": {},
   "outputs": [],
   "source": [
    "import numpy as np\n",
    "from sklearn.model_selection import GridSearchCV\n",
    "import pandas as pd\n",
    "import matplotlib.pyplot as plt"
   ]
  },
  {
   "cell_type": "markdown",
   "metadata": {},
   "source": [
    "## Part 1\n",
    "\n",
    "Implement ridge regression in a class called RidgeRegression that implements the classifier API, i.e. ``fit`` and ``predict`` methods with the same signature as the classifiers you implemented in the previous assignment.  Also implement functions for computing the following measures of error:\n",
    "\n",
    "  * The Root Mean Square Error (RMSE).\n",
    "  * The Maximum Absolute Deviation (MAD).\n",
    "\n",
    "For a hypothesis $h$, they are defined as follows:\n",
    "\n",
    "$$RMSE(h) = \\sqrt{\\frac{1}{N}\\sum_{i=1}^N (y_i - h(\\mathbf{x}_i))^2}$$\n",
    "\n",
    "and\n",
    "\n",
    "$$MAD(h) = \\frac{1}{N}\\sum_{i=1}^N |y_i - h(\\mathbf{x}_i)|.$$\n",
    "\n",
    "With the code you just implemented, your next task is to explore the dependence of validation-set error on the value of the regularization parameter, $\\lambda$.\n",
    "In what follows set aside 30% of the data for validation, and compute the in-sample error, and the validation-set error as a function of the parameter $\\lambda$ on the red wine data.  Choose the values of $\\lambda$ on a logarithmic scale with values 0.01, 0.1, 1, 10, 100, 1000 and plot the RMSE.\n",
    "Repeat the same experiment where instead of using all the training data, choose 20 random examples out of the training set, and train your model using those 20 examples, while evaluating on the same validation set.\n",
    "\n",
    "Now answer the following:\n",
    "\n",
    "  * What is the optimal value of $\\lambda$?\n",
    "  * What observations can you make on the basis of these plots?  (The concepts of overfitting/underfitting should be addressed in your answer).\n",
    "  * Finally, compare the results that you are getting with the published results in the paper linked above.  In particular, is the performance you have obtained comparable to that observed in the paper?  Please note that for a completely fair comparison, the comparison needs to be made on a separate test set, in the same way the experiment was performed in the paper.\n"
   ]
  },
  {
   "cell_type": "markdown",
   "metadata": {},
   "source": [
    "# Answer: Part 1 #"
   ]
  },
  {
   "cell_type": "markdown",
   "metadata": {},
   "source": [
    "## Ridge Regression Implementation ##"
   ]
  },
  {
   "cell_type": "code",
   "execution_count": 315,
   "metadata": {},
   "outputs": [],
   "source": [
    "class RidgeRegression(object):\n",
    "    \n",
    "    def __init__(self, lamda=10):\n",
    "        self.lamda = lamda\n",
    "\n",
    "    def fit(self, X, y):\n",
    "        # Applying weight vector formula for Ridge regression.\n",
    "        self.w = np.linalg.inv(X.T.dot(X) + self.lamda*np.eye(X.shape[1])).dot(X.T.dot(y))\n",
    "        return self.w\n",
    "    \n",
    "    def predict(self, X):\n",
    "        # Return Xw\n",
    "        return X.dot(self.w)\n",
    "    \n",
    "    # Function to compute Root Mean Squared Error.\n",
    "    def rmse(self, X, y, w):\n",
    "        # Deviation\n",
    "        d = y - X.dot(w)\n",
    "        # Square\n",
    "        s = d.T.dot(d)\n",
    "        # Root mean\n",
    "        error = (s/len(X))**(1/2.0)\n",
    "        return error\n",
    "    \n",
    "    # To calculate Maximum Absolute Deviation\n",
    "    def mad(self, X, y, w):\n",
    "        d = y - X.dot(w)\n",
    "        d = np.absolute(d)\n",
    "        error = np.sum(d)/len(X)\n",
    "        return error"
   ]
  },
  {
   "cell_type": "code",
   "execution_count": 316,
   "metadata": {},
   "outputs": [],
   "source": [
    "Data = np.loadtxt(\"winequality-red.csv\", delimiter=\";\", skiprows=1)"
   ]
  },
  {
   "cell_type": "code",
   "execution_count": 317,
   "metadata": {},
   "outputs": [],
   "source": [
    "# Function to perform standardization.\n",
    "def standardize(X):\n",
    "    for i in range(len(X[0])):\n",
    "        col = X[:, i]\n",
    "        # Find mean\n",
    "        mean = np.mean(col)\n",
    "        # Find SD\n",
    "        sd = np.std(col)\n",
    "        # Loop through feature, updating each value.\n",
    "        for j in range(len(X)):\n",
    "            X[j,i] = (X[j,i] - mean)/sd\n",
    "    return X"
   ]
  },
  {
   "cell_type": "code",
   "execution_count": 333,
   "metadata": {},
   "outputs": [],
   "source": [
    "X = Data[:, 0:-1]\n",
    "# Standardize input data\n",
    "X = standardize(X)\n",
    "y = Data[:, -1]"
   ]
  },
  {
   "cell_type": "code",
   "execution_count": 319,
   "metadata": {},
   "outputs": [],
   "source": [
    "# Split into training (70 %) and validation data (30 %).\n",
    "nRows = X.shape[0]\n",
    "nTrain = int(round(0.7*nRows)) \n",
    "nTest = nRows - nTrain\n",
    "\n",
    "# Shuffle row numbers\n",
    "rows = np.arange(nRows)\n",
    "np.random.shuffle(rows)\n",
    "\n",
    "trainIndices = rows[:nTrain]\n",
    "testIndices = rows[nTrain:]\n",
    "\n",
    "Xtrain = X[trainIndices, :]\n",
    "ytrain = y[trainIndices]\n",
    "Xvalid = X[testIndices, :]\n",
    "yvalid = y[testIndices]"
   ]
  },
  {
   "cell_type": "markdown",
   "metadata": {},
   "source": [
    "## In-sample error and validation-set error for different lambda values."
   ]
  },
  {
   "cell_type": "code",
   "execution_count": 325,
   "metadata": {},
   "outputs": [],
   "source": [
    "# Initialize lambda values.\n",
    "lvalues = [0.01, 0.1, 1, 10, 100, 1000]\n",
    "insampMAD = []\n",
    "validsetMAD = []\n",
    "insample = []\n",
    "validset = []\n",
    "for l in lvalues:\n",
    "    ridge = RidgeRegression(lamda = l)\n",
    "    w = ridge.fit(Xtrain, ytrain)\n",
    "    insamp = ridge.rmse(Xtrain, ytrain, w)\n",
    "    vset = ridge.rmse(Xvalid, yvalid, w)\n",
    "    insample.append(insamp)\n",
    "    validset.append(vset)\n",
    "    insampMAD.append(ridge.mad(Xtrain, ytrain, w))\n",
    "    validsetMAD.append(ridge.mad(Xvalid, yvalid, w))"
   ]
  },
  {
   "cell_type": "code",
   "execution_count": 326,
   "metadata": {},
   "outputs": [
    {
     "data": {
      "text/plain": [
       "[4.507003534952498,\n",
       " 4.519435686549321,\n",
       " 4.630212355097628,\n",
       " 5.035692847709467,\n",
       " 5.424814374512061,\n",
       " 5.534271071446209]"
      ]
     },
     "execution_count": 326,
     "metadata": {},
     "output_type": "execute_result"
    }
   ],
   "source": [
    "insampMAD"
   ]
  },
  {
   "cell_type": "code",
   "execution_count": 327,
   "metadata": {},
   "outputs": [
    {
     "data": {
      "text/plain": [
       "[5.639520678183775,\n",
       " 5.633338716282981,\n",
       " 5.635941061743197,\n",
       " 5.679879252037712,\n",
       " 5.677181272509369,\n",
       " 5.668184050741365]"
      ]
     },
     "execution_count": 327,
     "metadata": {},
     "output_type": "execute_result"
    }
   ],
   "source": [
    "validsetMAD"
   ]
  },
  {
   "cell_type": "markdown",
   "metadata": {},
   "source": [
    "## Plot "
   ]
  },
  {
   "cell_type": "code",
   "execution_count": 321,
   "metadata": {},
   "outputs": [
    {
     "data": {
      "text/plain": [
       "Text(0.5,1,'RMSE for Different Lambda Values')"
      ]
     },
     "execution_count": 321,
     "metadata": {},
     "output_type": "execute_result"
    },
    {
     "data": {
      "image/png": "[encoded data removed]",
      "text/plain": [
       "<matplotlib.figure.Figure at 0x7f5b8c666828>"
      ]
     },
     "metadata": {},
     "output_type": "display_data"
    }
   ],
   "source": [
    "plt.figure(figsize = (10,10))\n",
    "plt.subplot(1,1,1)\n",
    "plt.plot(insample, label = \"in-sample error\")\n",
    "plt.plot(validset, label = \"validation set error\")\n",
    "plt.xticks([0,1,2,3,4,5], lvalues)\n",
    "plt.legend(loc = \"upper right\")\n",
    "plt.xlabel(\"lambda\")\n",
    "plt.ylabel(\"RMSE\")\n",
    "plt.title(\"RMSE for Different Lambda Values\")"
   ]
  },
  {
   "cell_type": "markdown",
   "metadata": {},
   "source": [
    "## Observations"
   ]
  },
  {
   "cell_type": "markdown",
   "metadata": {},
   "source": [
    "In the above plot, the RMSE value is as expected, high for the validation set, and low for the training set, in general. For the validation set, the RMSE is lowest at a lambda value of 1000. For the training set however, the RMSE seems to remain at more or less a low for lambda values from 0.01 to 10, and slightly increases at 100. The RMSE is highest for lambda = 1000.     "
   ]
  },
  {
   "cell_type": "markdown",
   "metadata": {},
   "source": [
    "## Plot for 20 random training examples."
   ]
  },
  {
   "cell_type": "code",
   "execution_count": 322,
   "metadata": {},
   "outputs": [],
   "source": [
    "Xtrain = X[trainIndices, :]\n",
    "ytrain = y[trainIndices]\n",
    "\n",
    "# Choose 20 random train examples\n",
    "newTrainIndices = np.random.choice(trainIndices, 20)\n",
    "\n",
    "Xtrain = X[newTrainIndices, :]\n",
    "ytrain = y[newTrainIndices]\n",
    "Xvalid = X[testIndices, :]\n",
    "yvalid = y[testIndices]"
   ]
  },
  {
   "cell_type": "code",
   "execution_count": 323,
   "metadata": {},
   "outputs": [],
   "source": [
    "lvalues = [0.01, 0.1, 1, 10, 100, 1000]\n",
    "insample = []\n",
    "validset = []\n",
    "for l in lvalues:\n",
    "    ridge = RidgeRegression(lamda = l)\n",
    "    w1 = ridge.fit(Xtrain, ytrain)\n",
    "    insamp = ridge.rmse(Xtrain, ytrain, w1)\n",
    "    vset = ridge.rmse(Xvalid, yvalid, w1)\n",
    "    insample.append(insamp)\n",
    "    validset.append(vset)"
   ]
  },
  {
   "cell_type": "code",
   "execution_count": 324,
   "metadata": {},
   "outputs": [
    {
     "data": {
      "text/plain": [
       "Text(0.5,1,'RMSE for Different Lambda Values')"
      ]
     },
     "execution_count": 324,
     "metadata": {},
     "output_type": "execute_result"
    },
    {
     "data": {
      "image/png": "[encoded data removed]",
      "text/plain": [
       "<matplotlib.figure.Figure at 0x7f5b8c261128>"
      ]
     },
     "metadata": {},
     "output_type": "display_data"
    }
   ],
   "source": [
    "plt.figure(figsize = (10,10))\n",
    "plt.subplot(1,1,1)\n",
    "plt.plot(insample, label = \"in-sample error\")\n",
    "plt.plot(validset, label = \"validation set error\")\n",
    "plt.xticks([0,1,2,3,4,5], lvalues)\n",
    "plt.legend(loc = \"upper right\")\n",
    "plt.xlabel(\"lambda\")\n",
    "plt.ylabel(\"RMSE\")\n",
    "plt.title(\"RMSE for Different Lambda Values\")"
   ]
  },
  {
   "cell_type": "markdown",
   "metadata": {},
   "source": [
    "## Observations"
   ]
  },
  {
   "cell_type": "markdown",
   "metadata": {},
   "source": [
    "In the above plot, the RMSE values for the training set and validation set appear to converge (at lambda = 1000) to somewhere around 5.6 - 5.8. For the training set, the lowest RMSE is at a lambda value of 0.01, and highest at 1000. This is exactly opposite for the validation set, which seems to be doing best at a lambda value of 1000."
   ]
  },
  {
   "cell_type": "markdown",
   "metadata": {},
   "source": [
    "## What is the optimal value of $\\lambda$?\n",
    "\n",
    "From the above observations, it appears that the best value for lambda would be 1000, since the validation-set has a low error. The RMSE for the training data seems to rise at this value, but this need not necessarily be bad as it could be an indication that our classifier is avoiding over-fitting.\n",
    "\n",
    "## What observations can you make on the basis of these plots?\n",
    "\n",
    "It seems that as lambda increases, the validation set error decreases and the in-sample error (training set) increases. We know that the Regularization Parameter $\\lambda$ acts to prevent overfitting by contraining the model, so that the algorithm doesn't try to fit the noisy data. This intuitively makes sense, looking at the plots. \n",
    "\n",
    "At low values of lambda, over-fitting is likely to occur. This is characterized by high validation error and low training error in the plot. At high values of lambda, underfitting is likely to occur, as there seems to be a tendency (if we extrapolate the graph) for both error types to start rising again.\n",
    "\n",
    "## Comparision of Results\n",
    "\n",
    "In this study, the authors have used MAD to measure the performance of the regresser. Using the MR model, for the red wine dataset, their Maximum Absolute Deviation as a value of 0.50. The MAD values of our regresser is very much higher than this (around 5.6). Therefore, it seems that our approach does not yeild as much performance as achieved in this work."
   ]
  },
  {
   "cell_type": "markdown",
   "metadata": {},
   "source": [
    "## Part 2:  regression error characteristic curves\n",
    "\n",
    "Regression Error Characteristic (REC) curves are an interesting way of visualizing regression error as described\n",
    "in the following [paper](http://machinelearning.wustl.edu/mlpapers/paper_files/icml2003_BiB03.pdf).\n",
    "Write a function that plots the REC curve of a regression method, and plot the REC curve of the best regressor you found in Part 1 of the assignment (i.e. the one that gave the lowest error on the validation set).  Plot the REC curve for both the validation set and the training set.\n",
    "What can you learn from this curve that you cannot learn from an error measure such as RMSE or MAD?\n",
    "\n"
   ]
  },
  {
   "cell_type": "markdown",
   "metadata": {},
   "source": [
    "# Answer: Part 2"
   ]
  },
  {
   "cell_type": "markdown",
   "metadata": {},
   "source": [
    "## Implementation of REC Plotting Function"
   ]
  },
  {
   "cell_type": "code",
   "execution_count": 267,
   "metadata": {},
   "outputs": [],
   "source": [
    "# best regresser was for lambda = 1000\n",
    "Xtrain = X[trainIndices, :]\n",
    "ytrain = y[trainIndices]\n",
    "ridge = RidgeRegression(lamda = 1000)\n",
    "w3 = ridge.fit(Xtrain, ytrain)"
   ]
  },
  {
   "cell_type": "code",
   "execution_count": 237,
   "metadata": {},
   "outputs": [],
   "source": [
    "# REC curve plot function\n",
    "def plotREC(X, y, w, label):\n",
    "    # Find absolute deviation for all examples.\n",
    "    err = (y - X.dot(w)) ** 2\n",
    "    # Sort in ascending order.\n",
    "    xaxis = np.sort(err)\n",
    "    Eprev = 0\n",
    "    correct = 0\n",
    "    m = len(xaxis)\n",
    "    xplot = []\n",
    "    yplot = []\n",
    "    for E in xaxis:\n",
    "        if E > Eprev:\n",
    "            xplot.append(Eprev)\n",
    "            yplot.append(correct/m)\n",
    "            Eprev = E\n",
    "        correct += 1\n",
    "    plt.plot(xplot, yplot, label = label)"
   ]
  },
  {
   "cell_type": "markdown",
   "metadata": {},
   "source": [
    "## REC curve for training and validation set."
   ]
  },
  {
   "cell_type": "code",
   "execution_count": 268,
   "metadata": {},
   "outputs": [
    {
     "data": {
      "text/plain": [
       "Text(0.5,1,'REC Curve')"
      ]
     },
     "execution_count": 268,
     "metadata": {},
     "output_type": "execute_result"
    },
    {
     "data": {
      "image/png": "[encoded data removed]",
      "text/plain": [
       "<matplotlib.figure.Figure at 0x7f5b8b48fb38>"
      ]
     },
     "metadata": {},
     "output_type": "display_data"
    }
   ],
   "source": [
    "plt.figure(figsize = (10,10))\n",
    "plt.subplot(1,1,1)\n",
    "plotREC(Xtrain, ytrain, w3, \"Training Set\")\n",
    "plotREC(Xvalid, yvalid, w3, \"Validation Set\")\n",
    "plt.xlabel(\"Error Tolerance (Squared Error)\")\n",
    "plt.ylabel(\"Accuracy\")\n",
    "plt.legend(loc = \"upper left\")\n",
    "plt.title(\"REC Curve\")"
   ]
  },
  {
   "cell_type": "markdown",
   "metadata": {},
   "source": [
    "## Observation\n",
    "\n",
    "The REC curves for the training and validation sets do not seem to show a lot of difference. They more or less look the same. From the curve, we can see that there are a high percentage of examples whose error tolerance is between 0 and 25. At the same time, there are not too many examples with tolerance levels as high as 40 or 60.\n",
    "\n",
    "## What can you learn from this curve that you cannot learn from an error measure such as RMSE or MAD?\n",
    "\n",
    "RMSE or MAD can tell us how a regresser will perform. But when it comes to comparision of different regressers, REC curves are more intuitive as they do not vary much based on how error is measured, or how the data is scaled. Most importantly, it helps with model selection. This is because, in an REC curve, we are able to assess the accuracy of the model for different levels of error tolerance, which allows us to choose a suitable model. This is a very useful feature which is not afforded to us by RMSE or MAD error measures.  "
   ]
  },
  {
   "cell_type": "markdown",
   "metadata": {},
   "source": [
    "## Part 3:  weight vector analysis\n",
    "\n",
    "As we discussed in class, the magnitude of the weight vector can be interpreted as a measure of feature importance.\n",
    "Train a ridge regression classifier on a subset of the dataset that you reserved for training.\n",
    "We will explore the relationship between the magnitude of weight vector components and their relevance to the classification task in several ways.\n",
    "Each feature is associated with a component of the weight vector.  It can also be associated with the correlation of that feature with the vector of labels.\n",
    "As we discussed in class, the magnitude of the weight vector can give an indication of feature relevance; another measure of relevance of a feature is its correlation with the labels.  To compare the two, \n",
    "create a scatter plot of weight vector components against the [Pearson correlation coefficient](https://en.wikipedia.org/wiki/Pearson_product-moment_correlation_coefficient) of the corresponding feature with the labels (again, you can use Numpy to compute it).\n",
    "What can you conclude from this plot?\n",
    "The paper ranks features according to their importance using a different approach.  Compare your results with what they obtain.\n",
    "\n",
    "Next, perform the following experiment:\n",
    "Incrementally remove the feature with the lowest absolute value of the weight vector and retrain the ridge regression classifier.\n",
    "Plot RMSE as a function of the number of features that remain on the test set which you have set aside and comment on the results.\n"
   ]
  },
  {
   "cell_type": "markdown",
   "metadata": {},
   "source": [
    "# Answer: Part 3\n",
    "\n",
    "## Plot Implementation"
   ]
  },
  {
   "cell_type": "code",
   "execution_count": 329,
   "metadata": {
    "scrolled": false
   },
   "outputs": [
    {
     "data": {
      "text/plain": [
       "<matplotlib.collections.PathCollection at 0x7f5b8aa2f860>"
      ]
     },
     "execution_count": 329,
     "metadata": {},
     "output_type": "execute_result"
    },
    {
     "data": {
      "image/png": "[encoded data removed]",
      "text/plain": [
       "<matplotlib.figure.Figure at 0x7f5b8b5556d8>"
      ]
     },
     "metadata": {},
     "output_type": "display_data"
    }
   ],
   "source": [
    "# First - train classifier\n",
    "Xtrain = X[trainIndices, :]\n",
    "ytrain = y[trainIndices]\n",
    "Xvalid = X[testIndices, :]\n",
    "yvalid = y[testIndices]\n",
    "ridge2 = RidgeRegression(lamda = 1000)\n",
    "w2 = ridge2.fit(Xtrain, ytrain)\n",
    "\n",
    "# Find correlation between features and label.\n",
    "corr = []\n",
    "for i in range(len(Xtrain[1])):\n",
    "    feature = Xtrain[:, i]\n",
    "    # calculate correlation \n",
    "    corr.append(np.corrcoef(feature, ytrain)[1,0])\n",
    "\n",
    "# Plot\n",
    "plt.figure(figsize = (10,10))\n",
    "plt.subplot(1,1,1)\n",
    "plt.xlabel(\"Weight Component\")\n",
    "plt.ylabel(\"Pearson Correlation Coefficient\")\n",
    "plt.title(\"Weight vs Correlation\")\n",
    "plt.scatter(w2, corr)"
   ]
  },
  {
   "cell_type": "markdown",
   "metadata": {},
   "source": [
    "### Weight Magnitudes"
   ]
  },
  {
   "cell_type": "code",
   "execution_count": 330,
   "metadata": {},
   "outputs": [
    {
     "data": {
      "text/plain": [
       "array([-0.01052323, -0.11867405,  0.1147182 , -0.04123678, -0.08503848,\n",
       "       -0.02665398,  0.007999  , -0.12621132,  0.0215836 ,  0.1001396 ,\n",
       "        0.14744276])"
      ]
     },
     "execution_count": 330,
     "metadata": {},
     "output_type": "execute_result"
    }
   ],
   "source": [
    "w2"
   ]
  },
  {
   "cell_type": "markdown",
   "metadata": {},
   "source": [
    "### Correlation Coefficients"
   ]
  },
  {
   "cell_type": "code",
   "execution_count": 331,
   "metadata": {},
   "outputs": [
    {
     "data": {
      "text/plain": [
       "[0.09400904340697064,\n",
       " -0.389524878331673,\n",
       " 0.21375197960076833,\n",
       " 0.006987515068695395,\n",
       " -0.10658869333909558,\n",
       " -0.05123812156305293,\n",
       " -0.1724364631152135,\n",
       " -0.20105984024521795,\n",
       " -0.0716284557658037,\n",
       " 0.26668440935286053,\n",
       " 0.46405606342958117]"
      ]
     },
     "execution_count": 331,
     "metadata": {},
     "output_type": "execute_result"
    }
   ],
   "source": [
    "corr"
   ]
  },
  {
   "cell_type": "code",
   "execution_count": 334,
   "metadata": {},
   "outputs": [],
   "source": [
    "labels = [\"fixed acidity\", \"volatile acidity\", \"citric acid\", \"residual sugar\", \"chlorides\", \"free sulfur dioxide\", \"total sulfur dioxide\", \"density\", \"pH\", \"sulphates\", \"alcohol\"]"
   ]
  },
  {
   "cell_type": "code",
   "execution_count": 339,
   "metadata": {},
   "outputs": [
    {
     "data": {
      "text/plain": [
       "'alcohol'"
      ]
     },
     "execution_count": 339,
     "metadata": {},
     "output_type": "execute_result"
    }
   ],
   "source": [
    "# Max weight\n",
    "labels[np.argmax(np.absolute(w2))]"
   ]
  },
  {
   "cell_type": "code",
   "execution_count": 340,
   "metadata": {},
   "outputs": [
    {
     "data": {
      "text/plain": [
       "'total sulfur dioxide'"
      ]
     },
     "execution_count": 340,
     "metadata": {},
     "output_type": "execute_result"
    }
   ],
   "source": [
    "# Min weight\n",
    "labels[np.argmin(np.absolute(w2))]"
   ]
  },
  {
   "cell_type": "code",
   "execution_count": 341,
   "metadata": {},
   "outputs": [
    {
     "data": {
      "text/plain": [
       "'alcohol'"
      ]
     },
     "execution_count": 341,
     "metadata": {},
     "output_type": "execute_result"
    }
   ],
   "source": [
    "# Max correlation\n",
    "labels[np.argmax(np.absolute(corr))]"
   ]
  },
  {
   "cell_type": "code",
   "execution_count": 342,
   "metadata": {},
   "outputs": [
    {
     "data": {
      "text/plain": [
       "'residual sugar'"
      ]
     },
     "execution_count": 342,
     "metadata": {},
     "output_type": "execute_result"
    }
   ],
   "source": [
    "# Min correlation\n",
    "labels[np.argmin(np.absolute(corr))]"
   ]
  },
  {
   "cell_type": "markdown",
   "metadata": {},
   "source": [
    "## Observation\n",
    "\n",
    "From the above plot, it seems as if there is a linear relationship between the correlation coefficient and weight magnitude. We know that the larger the magnitude of the weight vector, the more important a feature is. Likewise, the higher the correlation that exists between the feature and the label, the more influential it will be. Since both these seem directly related (that is, if the weight magnitude is larger, the more influential it is, which is also indicated by higher correlation coefficient), it makes sense that the graph appears this way. "
   ]
  },
  {
   "cell_type": "markdown",
   "metadata": {},
   "source": [
    "## The paper ranks features using a different approach. Compare your results with what they obtain.\n",
    "\n",
    "According to our results, the most influential feature appears to be 'alcohol' and the least influential ones are 'total sulfur dioxide' and 'residual sugar'. According to paper's model, 'sulphates' is the most influential feature (with 'alcohol' not trailing too far behind). Similar to our approach, 'residual sugar' appears not to be too influential. However, 'total sulfur dioxide' is reported to be one of the more influential features."
   ]
  },
  {
   "cell_type": "markdown",
   "metadata": {},
   "source": [
    "## Keep removing features with lowest absolute weight and retrain and calculate RMSE with test set."
   ]
  },
  {
   "cell_type": "code",
   "execution_count": 303,
   "metadata": {},
   "outputs": [],
   "source": [
    "feat = []\n",
    "rmsevals = []\n",
    "X = Data[:, 0:-1]\n",
    "X = standardize(X)\n",
    "y = Data[:, -1]\n",
    "rows = np.arange(nRows)\n",
    "np.random.shuffle(rows)\n",
    "\n",
    "trainIndices = rows[:nTrain]\n",
    "testIndices = rows[nTrain:]\n",
    "\n",
    "Xtrain = X[trainIndices, :]\n",
    "ytrain = y[trainIndices]\n",
    "Xvalid = X[testIndices, :]\n",
    "yvalid = y[testIndices]\n",
    "w2 = ridge2.fit(Xtrain, ytrain)\n",
    "while(len(w2) != 1):\n",
    "    feat.append(len(w2))\n",
    "    rm = ridge2.rmse(Xvalid, yvalid, w2)\n",
    "    rmsevals.append(rm)\n",
    "    # Remove feature with least weight from everything. \n",
    "    w2 = np.absolute(w2)\n",
    "    index = np.argmin(w2)\n",
    "    # Standardize input data\n",
    "    X = standardize(X)\n",
    "\n",
    "    # Remove column index from X\n",
    "    X = np.delete(X, index, 1)\n",
    "    # Split into training (70 %) and validation data (30 %).\n",
    "    nRows = X.shape[0]\n",
    "    nTrain = int(round(0.7*nRows)) \n",
    "    nTest = nRows - nTrain\n",
    "\n",
    "    # Shuffle row numbers\n",
    "    rows = np.arange(nRows)\n",
    "    np.random.shuffle(rows)\n",
    "\n",
    "    trainIndices = rows[:nTrain]\n",
    "    testIndices = rows[nTrain:]\n",
    "\n",
    "    Xtrain = X[trainIndices, :]\n",
    "    ytrain = y[trainIndices]\n",
    "    Xvalid = X[testIndices, :]\n",
    "    yvalid = y[testIndices]\n",
    "    w2 = ridge2.fit(Xtrain, ytrain)"
   ]
  },
  {
   "cell_type": "code",
   "execution_count": 304,
   "metadata": {},
   "outputs": [
    {
     "data": {
      "text/plain": [
       "Text(0.5,1,'RMSE with Removal of Low-Impact Features')"
      ]
     },
     "execution_count": 304,
     "metadata": {},
     "output_type": "execute_result"
    },
    {
     "data": {
      "image/png": "[encoded data removed]",
      "text/plain": [
       "<matplotlib.figure.Figure at 0x7f5b8c70ce80>"
      ]
     },
     "metadata": {},
     "output_type": "display_data"
    }
   ],
   "source": [
    "plt.figure(figsize = (10,10))\n",
    "plt.subplot(1,1,1)\n",
    "plt.plot(feat, rmsevals)\n",
    "plt.xlabel(\"Number of Features that Remain\")\n",
    "plt.ylabel(\"RMSE\")\n",
    "plt.title(\"RMSE with Removal of Low-Impact Features\")"
   ]
  },
  {
   "cell_type": "markdown",
   "metadata": {},
   "source": [
    "## Observations\n",
    "\n",
    "As seen above, the RMSE seems to vary a lot. I would expect that the RMSE would improve to some extent, following the removal of a few non-influential features. This is evident from the fact that the RMSE becomes low after we removed 2 non-important features (or features we thought were non-important). However, removal of too many features affects the regresser adversely, as the RMSE increase after only 5 features are left (and we keep removing the same). But the removal of non-important features does seem to have had an overall positive effect, improving the regresser performance."
   ]
  },
  {
   "cell_type": "markdown",
   "metadata": {},
   "source": [
    "### Your Report\n",
    "\n",
    "Answer the questions in the cells reserved for that purpose.\n",
    "\n",
    "Mathematical equations should be written as LaTex equations; the assignment contains multiple examples of both inline formulas (such as the one exemplifying the notation for the norm of a vector $||\\mathbf{x}||$ and those that appear on separate lines, e.g.:\n",
    "\n",
    "$$\n",
    "||\\mathbf{x}|| = \\sqrt{\\mathbf{x}^T \\mathbf{x}}.\n",
    "$$\n",
    "\n",
    "\n",
    "\n",
    "### Submission\n",
    "\n",
    "Submit your report as a Jupyter notebook via Canvas.  Running the notebook should generate all the plots and results in your notebook.\n",
    "\n",
    "\n",
    "### Grading \n",
    "\n",
    "Here is what the grade sheet will look like for this assignment.  A few general guidelines for this and future assignments in the course:\n",
    "\n",
    "  * Your answers should be concise and to the point.  We will take off points if that is not the case.\n",
    "  * Always provide a description of the method you used to produce a given result in sufficient detail such that the reader can reproduce your results on the basis of the description.  You can use a few lines of python code or pseudo-code.\n",
    "\n",
    "\n",
    "Grading sheet for the assignment:\n",
    "\n",
    "```\n",
    "Part 1:  50 points.\n",
    "(15 points):  Ridge regression is correctly implemented.\n",
    "(15 points):  Plots of RMSE as a function of lambda are generated correctly.\n",
    "(20 points):  Discussion of the results\n",
    "\n",
    "Part 2:  25 points.\n",
    "(15 points):  REC curves are generated correctly\n",
    "(10 points):  discussion of REC curves\n",
    "\n",
    "Part 3:  25 points.\n",
    "(20 points):  Weight vector analysis\n",
    "( 5 points):  Comparison to the published results\n",
    "```\n",
    "\n",
    "\n",
    "Grading will be based on the following criteria:\n",
    "\n",
    "  * Correctness of answers to math problems\n",
    "  * Math is formatted as LaTex equations\n",
    "  * Correct behavior of the required code\n",
    "  * Easy to understand plots \n",
    "  * Overall readability and organization of the notebook\n",
    "  * Effort in making interesting observations where requested.\n",
    "  * Conciseness.  Points may be taken off if the notebook is overly \n",
    "  "
   ]
  }
 ],
 "metadata": {
  "kernelspec": {
   "display_name": "Python 3",
   "language": "python",
   "name": "python3"
  },
  "language_info": {
   "codemirror_mode": {
    "name": "ipython",
    "version": 3
   },
   "file_extension": ".py",
   "mimetype": "text/x-python",
   "name": "python",
   "nbconvert_exporter": "python",
   "pygments_lexer": "ipython3",
   "version": "3.6.4"
  }
 },
 "nbformat": 4,
 "nbformat_minor": 1
}
